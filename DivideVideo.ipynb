{
  "nbformat": 4,
  "nbformat_minor": 0,
  "metadata": {
    "colab": {
      "name": "DivideVideo.ipynb",
      "provenance": [],
      "collapsed_sections": [],
      "authorship_tag": "ABX9TyOXoOYsHD/7GO/OopW8yGPo",
      "include_colab_link": true
    },
    "kernelspec": {
      "name": "python3",
      "display_name": "Python 3"
    },
    "language_info": {
      "name": "python"
    }
  },
  "cells": [
    {
      "cell_type": "markdown",
      "metadata": {
        "id": "view-in-github",
        "colab_type": "text"
      },
      "source": [
        "<a href=\"https://colab.research.google.com/github/SUNGWHANYOON/Mobile-App-Team-8/blob/main/DivideVideo.ipynb\" target=\"_parent\"><img src=\"https://colab.research.google.com/assets/colab-badge.svg\" alt=\"Open In Colab\"/></a>"
      ]
    },
    {
      "cell_type": "code",
      "execution_count": 2,
      "metadata": {
        "colab": {
          "base_uri": "https://localhost:8080/"
        },
        "id": "feW0YC_8NqBu",
        "outputId": "7419233d-6b8c-4efe-b91c-994260f14712"
      },
      "outputs": [
        {
          "output_type": "stream",
          "name": "stdout",
          "text": [
            "Mounted at /content/gdrive\n"
          ]
        }
      ],
      "source": [
        "from google.colab import drive\n",
        "drive.mount('/content/gdrive')"
      ]
    },
    {
      "cell_type": "code",
      "source": [
        "import cv2\n",
        "import os"
      ],
      "metadata": {
        "id": "h5THSjeoOEZL"
      },
      "execution_count": 3,
      "outputs": []
    },
    {
      "cell_type": "code",
      "source": [
        "Directory = '/content/gdrive/My Drive/Culture_Heritage_Video/' # Directory에 파일들의 이름을 넣습니다.\n",
        "\n",
        "FileList = os.listdir(Directory)\n",
        "\n",
        "def getFrame(save_path,sec):\n",
        "    vidcap.set(cv2.CAP_PROP_POS_MSEC,sec*1000)\n",
        "    hasFrames,image = vidcap.read()\n",
        "#    cv2.resize(image,(300,300))\n",
        "    if hasFrames:\n",
        "        filename = \"(12)\"+str(count)+\".jpg\"\n",
        "        completeName = os.path.join(save_path, filename)\n",
        "        cv2.imwrite(completeName, image)     # save frame as JPG file\n",
        "    return hasFrames\n",
        "\n",
        "for x in FileList:\n",
        "  vidcap = cv2.VideoCapture(Directory + x)\n",
        "  try:\n",
        "    tempDir = \"/content/gdrive/My Drive/Capture/\"+x\n",
        "    os.mkdir(tempDir)\n",
        "  except:\n",
        "      tempDir = \"/content/gdrive/My Drive/Capture/\"+x\n",
        "\n",
        "\n",
        "  sec = 0\n",
        "  frameRate = 0.1  # //it will capture image in each 0.1 second\n",
        "  count = 1\n",
        "  success = getFrame(tempDir,sec)\n",
        "  while success:\n",
        "    count = count + 1\n",
        "    sec = sec + frameRate\n",
        "    sec = round(sec, 2)\n",
        "    success = getFrame(tempDir,sec)\n",
        "\n"
      ],
      "metadata": {
        "id": "zPWN3YzxOGIx"
      },
      "execution_count": null,
      "outputs": []
    },
    {
      "cell_type": "code",
      "source": [
        ""
      ],
      "metadata": {
        "id": "tqaVDbrjF3g1"
      },
      "execution_count": null,
      "outputs": []
    }
  ]
}